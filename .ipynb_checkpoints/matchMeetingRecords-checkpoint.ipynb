{
 "cells": [
  {
   "cell_type": "code",
   "execution_count": 117,
   "metadata": {},
   "outputs": [],
   "source": [
    "import pandas as pd\n",
    "import recordlinkage\n",
    "pd.options.display.max_columns = None"
   ]
  },
  {
   "cell_type": "markdown",
   "metadata": {},
   "source": [
    "### Load Data fiels"
   ]
  },
  {
   "cell_type": "code",
   "execution_count": 428,
   "metadata": {},
   "outputs": [],
   "source": [
    "ama = pd.read_stata('ama13.dta')"
   ]
  },
  {
   "cell_type": "code",
   "execution_count": 429,
   "metadata": {},
   "outputs": [],
   "source": [
    "meetings = pd.read_excel('speakerData.xlsx')\n",
    "meetings = meetings.drop(\"meetingID\", axis='columns')\n",
    "meetings['nonus'] = ~(meetings.us==1)"
   ]
  },
  {
   "cell_type": "code",
   "execution_count": 431,
   "metadata": {},
   "outputs": [],
   "source": [
    "medicareHospitals = pd.read_excel('medicareAcademicHospitals.xlsx')"
   ]
  },
  {
   "cell_type": "code",
   "execution_count": 432,
   "metadata": {},
   "outputs": [
    {
     "data": {
      "text/html": [
       "<div>\n",
       "<style scoped>\n",
       "    .dataframe tbody tr th:only-of-type {\n",
       "        vertical-align: middle;\n",
       "    }\n",
       "\n",
       "    .dataframe tbody tr th {\n",
       "        vertical-align: top;\n",
       "    }\n",
       "\n",
       "    .dataframe thead th {\n",
       "        text-align: right;\n",
       "    }\n",
       "</style>\n",
       "<table border=\"1\" class=\"dataframe\">\n",
       "  <thead>\n",
       "    <tr style=\"text-align: right;\">\n",
       "      <th></th>\n",
       "      <th>TIN</th>\n",
       "      <th>Hospital Name</th>\n",
       "      <th>PECOS Legal Business Name</th>\n",
       "      <th>Street Address</th>\n",
       "      <th>PO Box</th>\n",
       "      <th>City</th>\n",
       "      <th>State</th>\n",
       "      <th>Zip Code</th>\n",
       "      <th>Street Address 1</th>\n",
       "      <th>Street Address 2</th>\n",
       "      <th>City.1</th>\n",
       "      <th>State.1</th>\n",
       "      <th>Zip Code.1</th>\n",
       "    </tr>\n",
       "  </thead>\n",
       "  <tbody>\n",
       "    <tr>\n",
       "      <th>0</th>\n",
       "      <td>920016429</td>\n",
       "      <td>PROVIDENCE ALASKA MEDICAL CENTER</td>\n",
       "      <td>Providence Health &amp; Services - Washington</td>\n",
       "      <td>3200 PROVIDENCE DRIVE</td>\n",
       "      <td>PO BOX 196604</td>\n",
       "      <td>ANCHORAGE</td>\n",
       "      <td>AK</td>\n",
       "      <td>99519</td>\n",
       "      <td>3200 Providence Dr</td>\n",
       "      <td>NaN</td>\n",
       "      <td>Anchorage</td>\n",
       "      <td>AK</td>\n",
       "      <td>99508</td>\n",
       "    </tr>\n",
       "  </tbody>\n",
       "</table>\n",
       "</div>"
      ],
      "text/plain": [
       "         TIN                     Hospital Name  \\\n",
       "0  920016429  PROVIDENCE ALASKA MEDICAL CENTER   \n",
       "\n",
       "                   PECOS Legal Business Name         Street Address  \\\n",
       "0  Providence Health & Services - Washington  3200 PROVIDENCE DRIVE   \n",
       "\n",
       "          PO Box       City State  Zip Code    Street Address 1  \\\n",
       "0  PO BOX 196604  ANCHORAGE    AK     99519  3200 Providence Dr   \n",
       "\n",
       "  Street Address 2     City.1 State.1  Zip Code.1  \n",
       "0              NaN  Anchorage      AK       99508  "
      ]
     },
     "execution_count": 432,
     "metadata": {},
     "output_type": "execute_result"
    }
   ],
   "source": [
    "medicareHospitals.head(1)"
   ]
  },
  {
   "cell_type": "code",
   "execution_count": 167,
   "metadata": {},
   "outputs": [
    {
     "data": {
      "text/html": [
       "<div>\n",
       "<style scoped>\n",
       "    .dataframe tbody tr th:only-of-type {\n",
       "        vertical-align: middle;\n",
       "    }\n",
       "\n",
       "    .dataframe tbody tr th {\n",
       "        vertical-align: top;\n",
       "    }\n",
       "\n",
       "    .dataframe thead th {\n",
       "        text-align: right;\n",
       "    }\n",
       "</style>\n",
       "<table border=\"1\" class=\"dataframe\">\n",
       "  <thead>\n",
       "    <tr style=\"text-align: right;\">\n",
       "      <th></th>\n",
       "      <th>ResearchID</th>\n",
       "      <th>npi</th>\n",
       "      <th>MailFirstName</th>\n",
       "      <th>MailMiddleName</th>\n",
       "      <th>MailLastName</th>\n",
       "      <th>AddressType</th>\n",
       "      <th>MailAddress1</th>\n",
       "      <th>MailZipCode</th>\n",
       "      <th>MailZip5</th>\n",
       "      <th>Undeliverable</th>\n",
       "      <th>FIPSCounty</th>\n",
       "      <th>FIPSCity</th>\n",
       "      <th>FIPSState</th>\n",
       "      <th>CensusRegion</th>\n",
       "      <th>CensusDivision</th>\n",
       "      <th>CensusGroup</th>\n",
       "      <th>CensusTract</th>\n",
       "      <th>CensusSuffix</th>\n",
       "      <th>CensusBlockGroup</th>\n",
       "      <th>CensusEnumerationGroup</th>\n",
       "      <th>cmsa</th>\n",
       "      <th>PMSA_MSA</th>\n",
       "      <th>smsa</th>\n",
       "      <th>msa</th>\n",
       "      <th>DOFlag</th>\n",
       "      <th>BirthDate</th>\n",
       "      <th>BirthCity</th>\n",
       "      <th>BirthState</th>\n",
       "      <th>BirthCountry</th>\n",
       "      <th>Sex</th>\n",
       "      <th>DeadFlag</th>\n",
       "      <th>LicPrefState</th>\n",
       "      <th>LicPrefYear</th>\n",
       "      <th>LicGrpState</th>\n",
       "      <th>LicGrpYear</th>\n",
       "      <th>LicHospState</th>\n",
       "      <th>LicHospYear</th>\n",
       "      <th>LicAltOffState</th>\n",
       "      <th>LicAltOffYear</th>\n",
       "      <th>PrimaryTOP</th>\n",
       "      <th>PresentEmployment</th>\n",
       "      <th>PrimarySpecialty</th>\n",
       "      <th>SecondarySpecialty</th>\n",
       "      <th>tops</th>\n",
       "      <th>HospitalID</th>\n",
       "      <th>HospitalHours</th>\n",
       "      <th>PRAFlag</th>\n",
       "      <th>PRAExpiration</th>\n",
       "      <th>GroupID1</th>\n",
       "      <th>GroupID2</th>\n",
       "      <th>MedTrainFlag</th>\n",
       "      <th>MedTrainFrom</th>\n",
       "      <th>MedTrainTo</th>\n",
       "      <th>MedTrainYearInProgram</th>\n",
       "      <th>MedTrainPostGradYear</th>\n",
       "      <th>MedTrainSpec1</th>\n",
       "      <th>MedTrainSpec2</th>\n",
       "      <th>MedTrainingInstitutionCode</th>\n",
       "      <th>MedSchoolID</th>\n",
       "      <th>MedSchoolYOG</th>\n",
       "      <th>ContactFlag</th>\n",
       "      <th>NumberOfOffices</th>\n",
       "      <th>OfficeState</th>\n",
       "      <th>OfficeZipCode</th>\n",
       "      <th>USTrained</th>\n",
       "      <th>ResidencyTrainingState</th>\n",
       "      <th>MedicalSchoolState</th>\n",
       "      <th>OmitFlag</th>\n",
       "      <th>yob</th>\n",
       "      <th>yot</th>\n",
       "    </tr>\n",
       "  </thead>\n",
       "  <tbody>\n",
       "    <tr>\n",
       "      <th>559538</th>\n",
       "      <td>3740050891</td>\n",
       "      <td>1528185246</td>\n",
       "      <td>James</td>\n",
       "      <td>Francis</td>\n",
       "      <td>Burke</td>\n",
       "      <td>2</td>\n",
       "      <td>NA</td>\n",
       "      <td>48103-3147</td>\n",
       "      <td>48103</td>\n",
       "      <td>0</td>\n",
       "      <td>161</td>\n",
       "      <td>NA</td>\n",
       "      <td>26</td>\n",
       "      <td>2.0</td>\n",
       "      <td>3.0</td>\n",
       "      <td>6</td>\n",
       "      <td>4007</td>\n",
       "      <td>00</td>\n",
       "      <td>0</td>\n",
       "      <td>NA</td>\n",
       "      <td>35</td>\n",
       "      <td>0440</td>\n",
       "      <td>NA</td>\n",
       "      <td>A</td>\n",
       "      <td>0</td>\n",
       "      <td>5844.0</td>\n",
       "      <td>CLEVELAND</td>\n",
       "      <td>OH</td>\n",
       "      <td>US1</td>\n",
       "      <td>M</td>\n",
       "      <td>0</td>\n",
       "      <td>MI</td>\n",
       "      <td>2009</td>\n",
       "      <td>NA</td>\n",
       "      <td>NA</td>\n",
       "      <td>NA</td>\n",
       "      <td>NA</td>\n",
       "      <td>MI</td>\n",
       "      <td>2009</td>\n",
       "      <td>020</td>\n",
       "      <td>110</td>\n",
       "      <td>VN</td>\n",
       "      <td>US</td>\n",
       "      <td>PO</td>\n",
       "      <td>NA</td>\n",
       "      <td>000</td>\n",
       "      <td>0</td>\n",
       "      <td>NaN</td>\n",
       "      <td>NA</td>\n",
       "      <td>NA</td>\n",
       "      <td>0</td>\n",
       "      <td>NA</td>\n",
       "      <td>18443.0</td>\n",
       "      <td>0</td>\n",
       "      <td>0</td>\n",
       "      <td>NA</td>\n",
       "      <td>NA</td>\n",
       "      <td>250256</td>\n",
       "      <td>01643</td>\n",
       "      <td>2005</td>\n",
       "      <td>1</td>\n",
       "      <td>0</td>\n",
       "      <td>MI</td>\n",
       "      <td>48109-5002</td>\n",
       "      <td>0</td>\n",
       "      <td>MI</td>\n",
       "      <td>IL</td>\n",
       "      <td>NA</td>\n",
       "      <td>1976</td>\n",
       "      <td>2010.0</td>\n",
       "    </tr>\n",
       "  </tbody>\n",
       "</table>\n",
       "</div>"
      ],
      "text/plain": [
       "        ResearchID         npi MailFirstName MailMiddleName MailLastName  \\\n",
       "559538  3740050891  1528185246         James        Francis        Burke   \n",
       "\n",
       "        AddressType MailAddress1 MailZipCode MailZip5  Undeliverable  \\\n",
       "559538            2           NA  48103-3147    48103              0   \n",
       "\n",
       "       FIPSCounty FIPSCity FIPSState  CensusRegion  CensusDivision  \\\n",
       "559538        161       NA        26           2.0             3.0   \n",
       "\n",
       "        CensusGroup CensusTract CensusSuffix CensusBlockGroup  \\\n",
       "559538            6        4007           00                0   \n",
       "\n",
       "       CensusEnumerationGroup cmsa PMSA_MSA smsa msa  DOFlag  BirthDate  \\\n",
       "559538                     NA   35     0440   NA   A       0     5844.0   \n",
       "\n",
       "        BirthCity BirthState BirthCountry Sex  DeadFlag LicPrefState  \\\n",
       "559538  CLEVELAND         OH          US1   M         0           MI   \n",
       "\n",
       "       LicPrefYear LicGrpState LicGrpYear LicHospState LicHospYear  \\\n",
       "559538        2009          NA         NA           NA          NA   \n",
       "\n",
       "       LicAltOffState LicAltOffYear PrimaryTOP PresentEmployment  \\\n",
       "559538             MI          2009        020               110   \n",
       "\n",
       "       PrimarySpecialty SecondarySpecialty tops HospitalID HospitalHours  \\\n",
       "559538               VN                 US   PO         NA           000   \n",
       "\n",
       "        PRAFlag  PRAExpiration GroupID1 GroupID2  MedTrainFlag MedTrainFrom  \\\n",
       "559538        0            NaN       NA       NA             0           NA   \n",
       "\n",
       "        MedTrainTo MedTrainYearInProgram MedTrainPostGradYear MedTrainSpec1  \\\n",
       "559538     18443.0                     0                    0            NA   \n",
       "\n",
       "       MedTrainSpec2 MedTrainingInstitutionCode MedSchoolID MedSchoolYOG  \\\n",
       "559538            NA                     250256       01643         2005   \n",
       "\n",
       "        ContactFlag  NumberOfOffices OfficeState OfficeZipCode  USTrained  \\\n",
       "559538            1                0          MI    48109-5002          0   \n",
       "\n",
       "       ResidencyTrainingState MedicalSchoolState OmitFlag   yob     yot  \n",
       "559538                     MI                 IL       NA  1976  2010.0  "
      ]
     },
     "execution_count": 167,
     "metadata": {},
     "output_type": "execute_result"
    }
   ],
   "source": [
    "ama.loc[ama.npi==\"1528185246\"]"
   ]
  },
  {
   "cell_type": "markdown",
   "metadata": {},
   "source": [
    "### Step 1: ...assign hospoitals to zip codes from the ama hospital list"
   ]
  },
  {
   "cell_type": "code",
   "execution_count": null,
   "metadata": {},
   "outputs": [],
   "source": [
    "hospitalMatchIndex = recordlinkage.index.Full()\n",
    "#hospitalMatchIndex = recordlinkage.index.SortedNeighbourhood(left_on='homeInstitution', right_on='Hospital Name', window=1000)\n",
    "hospMatchIndex = hospitalMatchIndex.index(meetings, medicareHospitals)\n",
    "hospMatchIndex.names = ['meeting', 'medicare']\n",
    "dfTest = pd.DataFrame(index=hospMatchIndex)\n",
    "dfTest.sort_index().head(5)"
   ]
  },
  {
   "cell_type": "code",
   "execution_count": null,
   "metadata": {},
   "outputs": [],
   "source": [
    "comp = recordlinkage.Compare(n_jobs=12)\n",
    "comp.string('homeInstitution', 'Hospital Name', method='levenshtein')\n",
    "compared = comp.compute(hospMatchIndex, meetings, medicareHospitals)\n",
    "compared = compared.rename({0:\"weight\"}, axis='columns')"
   ]
  },
  {
   "cell_type": "code",
   "execution_count": null,
   "metadata": {},
   "outputs": [],
   "source": [
    "compared.sort_values(['meeting', 'weight'], ascending=False, inplace=True)"
   ]
  },
  {
   "cell_type": "code",
   "execution_count": null,
   "metadata": {},
   "outputs": [],
   "source": [
    "compared.head()"
   ]
  },
  {
   "cell_type": "markdown",
   "metadata": {},
   "source": [
    "Summary: Matching on the hospital names that we have is pretty awful...not obvious that its going to do anything at all for us. Will probably need to go back adn pull out zip codes for our poeple if we'r egoing ot make this work. I tried a couple algorthims and a copule strategies...but, the names are just very different. And sometimes the health center name and hospital name compeltely diverge. I don't think ths is going to be fruitful."
   ]
  },
  {
   "cell_type": "markdown",
   "metadata": {},
   "source": [
    "### Step 2: filter ama list to neurology and related specialities."
   ]
  },
  {
   "cell_type": "markdown",
   "metadata": {},
   "source": [
    "Neurology specialities from AMA masterfile\n",
    "\n",
    "<li>MN\tInternal Medicine - Neurology</li>\n",
    "<li>N\tNeurology</li>\n",
    "<li>NDN\tNeurodevelopmental Disabilities</li>\n",
    "<li>NDP\tNeurodevelopmental Disabilities</li>\n",
    "<li>NMN\tNeuromuscliar Medicine</li>\n",
    "<li>NNM\tNeurology / Nuclear Medicine</li>\n",
    "<li>NS\tNeurological Surgery</li>\n",
    "<li>NSP\tPediatric Neurological Surgery</li>\n",
    "<li>NUP\tNeuropsychiatry</li>\n",
    "<li>PMN\tPain Medicine (Neurology)</li>\n",
    "<li>PYN\tPsychiatry - Neurology</li>\n",
    "<li>SMN\tSleep Medicine (Psych & Neurology)</li>\n",
    "<li>VN\tVascliar Neurology</li>\n",
    "<li>CHN Child neurology</li>"
   ]
  },
  {
   "cell_type": "code",
   "execution_count": 433,
   "metadata": {},
   "outputs": [],
   "source": [
    "ama['MailFirstName'] = ama['MailFirstName'].str.lower()\n",
    "ama['MailLastName'] = ama['MailLastName'].str.lower()\n",
    "ama['MailMiddleName'] = ama['MailMiddleName'].str.lower()\n",
    "meetings['firstName'] = meetings['firstName'].str.lower()\n",
    "meetings['lastName'] = meetings['lastName'].str.lower()\n",
    "ama['middleInitial'] = ama['MailMiddleName'].str[:1]\n",
    "# new data frame with split value columns \n",
    "splitName = meetings[\"firstName\"].str.split(\" \", n = 1, expand = True) \n",
    "# making seperate first name column from new data frame \n",
    "meetings[\"firstName\"]= splitName[0] \n",
    "meetings[\"middleInitial\"]= splitName[1].str.strip(\".\")\n",
    "meetings[\"middleInitial\"]= meetings['middleInitial'].str[:1]\n",
    "ama['female'] = ama['Sex'] == 'F'\n",
    "ama['female'] = ama['female'].astype(int)\n",
    "# the Year of graduation field looks awful...\n",
    "ama['MedSchoolYOG'] = ama['MedSchoolYOG'].astype(int)\n",
    "ama['YOGEst'] = ama.yot - 4"
   ]
  },
  {
   "cell_type": "code",
   "execution_count": 434,
   "metadata": {},
   "outputs": [],
   "source": [
    "neuroSpecialties = ['MN', 'N', 'NDN', 'NMN', 'NNM', 'NS', 'NSP', 'NUP', 'PMN', 'PYN', 'SMN', 'VN', 'CHN']\n",
    "primaryNeuro = ama.loc[ama['PrimarySpecialty'].isin(neuroSpecialties)]\n",
    "secondaryNeuro = ama.loc[ama['SecondarySpecialty'].isin(neuroSpecialties)]\n",
    "allNeuro = pd.concat([primaryNeuro,secondaryNeuro]).drop_duplicates().reset_index(drop=True)"
   ]
  },
  {
   "cell_type": "code",
   "execution_count": 435,
   "metadata": {},
   "outputs": [],
   "source": [
    "meetings['totalNonMissing'] = meetings[['lastName', 'firstName', 'middleInitial', 'female', 'medGradYear']].notnull().sum(axis=1)\n",
    "meetings['weightedNonMissing'] = meetings['middleInitial'].notnull() * 0.25 + 3.05"
   ]
  },
  {
   "cell_type": "markdown",
   "metadata": {},
   "source": [
    "### Match meetings to the file of neurologists"
   ]
  },
  {
   "cell_type": "code",
   "execution_count": 436,
   "metadata": {},
   "outputs": [],
   "source": [
    "usmeetings = meetings.loc[meetings.us==1] \n",
    "meetingAMAMatchIndex = recordlinkage.index.SortedNeighbourhood(left_on='lastName', right_on='MailLastName', window=11)\n",
    "personMatch = meetingAMAMatchIndex.index(usmeetings, allNeuro)\n",
    "personMatch.names = ['meetingID', 'amaID']\n",
    "dfTest = pd.DataFrame(index=personMatch)\n",
    "allNeuro.index.name = 'amaID'"
   ]
  },
  {
   "cell_type": "code",
   "execution_count": 437,
   "metadata": {},
   "outputs": [],
   "source": [
    "personComp = recordlinkage.Compare(n_jobs=12)\n",
    "personComp.string('lastName', 'MailLastName', method='jarowinkler')\n",
    "personComp.string('firstName', 'MailFirstName', method='jarowinkler')\n",
    "personComp.string('middleInitial', 'middleInitial', method='jarowinkler')\n",
    "personComp.exact('female', 'female')\n",
    "personComp.numeric('medGradYear', 'YOGEst', method='linear', offset=2, scale=2)\n",
    "\n",
    "personCompared = personComp.compute(personMatch, usmeetings, allNeuro)\n",
    "personCompared = personCompared.rename({0:\"lastNameWeight\", 1:\"firstNameWeight\", 2:\"middleInitialWeight\", 3:\"femaleWeight\", 4:\"medGradWeight\"}, axis='columns')\n",
    "personCompared['totalWeight'] = personCompared.lastNameWeight + personCompared.firstNameWeight + personCompared.middleInitialWeight + personCompared.femaleWeight + personCompared.medGradWeight\n",
    "personCompared['arbWeight'] = personCompared.lastNameWeight + personCompared.firstNameWeight * 0.8 + personCompared.middleInitialWeight * 0.25 + personCompared.femaleWeight + personCompared.medGradWeight * 0.25"
   ]
  },
  {
   "cell_type": "code",
   "execution_count": 438,
   "metadata": {},
   "outputs": [],
   "source": [
    "joined = personCompared.join(usmeetings, on='meetingID', how='left').join(allNeuro, on='amaID', how='left', lsuffix='left', rsuffix='right')"
   ]
  },
  {
   "cell_type": "code",
   "execution_count": 439,
   "metadata": {},
   "outputs": [],
   "source": [
    "joined['percentWeight'] = joined.totalWeight / joined.totalNonMissing\n",
    "joined['arbPercentWeight'] = joined.arbWeight / joined.weightedNonMissing\n",
    "joined.sort_values(['meetingID', 'percentWeight', 'arbPercentWeight'], ascending=False, inplace=True)\n",
    "simpleJoin = joined[[ 'percentWeight', 'arbPercentWeight', 'lastName', 'firstName', 'femaleleft', 'middleInitialleft', 'medGradYear', 'MailFirstName', 'MailLastName', 'middleInitialright', 'femaleright', 'YOGEst']]\n"
   ]
  },
  {
   "cell_type": "markdown",
   "metadata": {},
   "source": [
    "### Multiple manual comparisons bewteen matches using the (commented out to make notebook more succinct) code below, generating the file matchData.xlsx"
   ]
  },
  {
   "cell_type": "code",
   "execution_count": 440,
   "metadata": {},
   "outputs": [],
   "source": [
    "#simpleJoin.loc[(1490,)]"
   ]
  },
  {
   "cell_type": "code",
   "execution_count": 441,
   "metadata": {},
   "outputs": [],
   "source": [
    "#joined.loc[(1490,)]"
   ]
  },
  {
   "cell_type": "code",
   "execution_count": 442,
   "metadata": {},
   "outputs": [],
   "source": [
    "joined['rankWithinMeeting'] = joined.groupby([\"meetingID\"]).cumcount()\n",
    "joined['nextPercentWeight'] = joined.groupby('meetingID')['percentWeight'].shift(-1) \n",
    "joined['nextPercentArb'] = joined.groupby('meetingID')['arbPercentWeight'].shift(-1) \n",
    "joined['weightDelta'] = joined.percentWeight - joined.nextPercentWeight \n",
    "joined['arbDelta'] = joined.arbPercentWeight - joined.nextPercentArb\n",
    "joined['exactNameMatch'] = (joined.lastNameWeight==1) & (joined.firstNameWeight==1)"
   ]
  },
  {
   "cell_type": "code",
   "execution_count": 443,
   "metadata": {},
   "outputs": [],
   "source": [
    "exactMatchesForMeeting = joined.groupby(\"meetingID\").exactNameMatch.sum()\n",
    "exactMatchesForMeeting.rename(\"exactMatchesForMeeting\", inplace=True)\n",
    "joined = joined.join(other=exactMatchesForMeeting, on='meetingID', how='left')"
   ]
  },
  {
   "cell_type": "code",
   "execution_count": 444,
   "metadata": {},
   "outputs": [],
   "source": [
    "bestMatchForMeeting = joined.loc[joined['rankWithinMeeting'] == 0]"
   ]
  },
  {
   "cell_type": "code",
   "execution_count": 445,
   "metadata": {},
   "outputs": [
    {
     "data": {
      "text/html": [
       "<div>\n",
       "<style scoped>\n",
       "    .dataframe tbody tr th:only-of-type {\n",
       "        vertical-align: middle;\n",
       "    }\n",
       "\n",
       "    .dataframe tbody tr th {\n",
       "        vertical-align: top;\n",
       "    }\n",
       "\n",
       "    .dataframe thead tr th {\n",
       "        text-align: left;\n",
       "    }\n",
       "\n",
       "    .dataframe thead tr:last-of-type th {\n",
       "        text-align: right;\n",
       "    }\n",
       "</style>\n",
       "<table border=\"1\" class=\"dataframe\">\n",
       "  <thead>\n",
       "    <tr>\n",
       "      <th></th>\n",
       "      <th colspan=\"8\" halign=\"left\">arb</th>\n",
       "      <th colspan=\"8\" halign=\"left\">arbDelta</th>\n",
       "      <th colspan=\"8\" halign=\"left\">weight</th>\n",
       "      <th colspan=\"8\" halign=\"left\">weightDelta</th>\n",
       "    </tr>\n",
       "    <tr>\n",
       "      <th></th>\n",
       "      <th>count</th>\n",
       "      <th>mean</th>\n",
       "      <th>std</th>\n",
       "      <th>min</th>\n",
       "      <th>25%</th>\n",
       "      <th>50%</th>\n",
       "      <th>75%</th>\n",
       "      <th>max</th>\n",
       "      <th>count</th>\n",
       "      <th>mean</th>\n",
       "      <th>std</th>\n",
       "      <th>min</th>\n",
       "      <th>25%</th>\n",
       "      <th>50%</th>\n",
       "      <th>75%</th>\n",
       "      <th>max</th>\n",
       "      <th>count</th>\n",
       "      <th>mean</th>\n",
       "      <th>std</th>\n",
       "      <th>min</th>\n",
       "      <th>25%</th>\n",
       "      <th>50%</th>\n",
       "      <th>75%</th>\n",
       "      <th>max</th>\n",
       "      <th>count</th>\n",
       "      <th>mean</th>\n",
       "      <th>std</th>\n",
       "      <th>min</th>\n",
       "      <th>25%</th>\n",
       "      <th>50%</th>\n",
       "      <th>75%</th>\n",
       "      <th>max</th>\n",
       "    </tr>\n",
       "    <tr>\n",
       "      <th>match</th>\n",
       "      <th></th>\n",
       "      <th></th>\n",
       "      <th></th>\n",
       "      <th></th>\n",
       "      <th></th>\n",
       "      <th></th>\n",
       "      <th></th>\n",
       "      <th></th>\n",
       "      <th></th>\n",
       "      <th></th>\n",
       "      <th></th>\n",
       "      <th></th>\n",
       "      <th></th>\n",
       "      <th></th>\n",
       "      <th></th>\n",
       "      <th></th>\n",
       "      <th></th>\n",
       "      <th></th>\n",
       "      <th></th>\n",
       "      <th></th>\n",
       "      <th></th>\n",
       "      <th></th>\n",
       "      <th></th>\n",
       "      <th></th>\n",
       "      <th></th>\n",
       "      <th></th>\n",
       "      <th></th>\n",
       "      <th></th>\n",
       "      <th></th>\n",
       "      <th></th>\n",
       "      <th></th>\n",
       "      <th></th>\n",
       "    </tr>\n",
       "  </thead>\n",
       "  <tbody>\n",
       "    <tr>\n",
       "      <th>0</th>\n",
       "      <td>41.0</td>\n",
       "      <td>0.743902</td>\n",
       "      <td>0.092517</td>\n",
       "      <td>0.53</td>\n",
       "      <td>0.71</td>\n",
       "      <td>0.76</td>\n",
       "      <td>0.8</td>\n",
       "      <td>0.91</td>\n",
       "      <td>12.0</td>\n",
       "      <td>0.169167</td>\n",
       "      <td>0.096527</td>\n",
       "      <td>-0.01</td>\n",
       "      <td>0.1275</td>\n",
       "      <td>0.190</td>\n",
       "      <td>0.2225</td>\n",
       "      <td>0.32</td>\n",
       "      <td>41.0</td>\n",
       "      <td>0.669756</td>\n",
       "      <td>0.124127</td>\n",
       "      <td>0.42</td>\n",
       "      <td>0.61</td>\n",
       "      <td>0.64</td>\n",
       "      <td>0.75</td>\n",
       "      <td>0.89</td>\n",
       "      <td>12.0</td>\n",
       "      <td>0.105833</td>\n",
       "      <td>0.094239</td>\n",
       "      <td>0.00</td>\n",
       "      <td>0.0075</td>\n",
       "      <td>0.115</td>\n",
       "      <td>0.1675</td>\n",
       "      <td>0.27</td>\n",
       "    </tr>\n",
       "    <tr>\n",
       "      <th>1</th>\n",
       "      <td>19.0</td>\n",
       "      <td>0.982632</td>\n",
       "      <td>0.039978</td>\n",
       "      <td>0.83</td>\n",
       "      <td>0.98</td>\n",
       "      <td>1.00</td>\n",
       "      <td>1.0</td>\n",
       "      <td>1.00</td>\n",
       "      <td>18.0</td>\n",
       "      <td>0.308889</td>\n",
       "      <td>0.092284</td>\n",
       "      <td>0.10</td>\n",
       "      <td>0.2725</td>\n",
       "      <td>0.315</td>\n",
       "      <td>0.3700</td>\n",
       "      <td>0.47</td>\n",
       "      <td>19.0</td>\n",
       "      <td>0.963684</td>\n",
       "      <td>0.069138</td>\n",
       "      <td>0.73</td>\n",
       "      <td>0.94</td>\n",
       "      <td>1.00</td>\n",
       "      <td>1.00</td>\n",
       "      <td>1.00</td>\n",
       "      <td>18.0</td>\n",
       "      <td>0.294444</td>\n",
       "      <td>0.100131</td>\n",
       "      <td>0.06</td>\n",
       "      <td>0.2500</td>\n",
       "      <td>0.300</td>\n",
       "      <td>0.3700</td>\n",
       "      <td>0.47</td>\n",
       "    </tr>\n",
       "  </tbody>\n",
       "</table>\n",
       "</div>"
      ],
      "text/plain": [
       "        arb                                                  arbDelta  \\\n",
       "      count      mean       std   min   25%   50%  75%   max    count   \n",
       "match                                                                   \n",
       "0      41.0  0.743902  0.092517  0.53  0.71  0.76  0.8  0.91     12.0   \n",
       "1      19.0  0.982632  0.039978  0.83  0.98  1.00  1.0  1.00     18.0   \n",
       "\n",
       "                                                             weight            \\\n",
       "           mean       std   min     25%    50%     75%   max  count      mean   \n",
       "match                                                                           \n",
       "0      0.169167  0.096527 -0.01  0.1275  0.190  0.2225  0.32   41.0  0.669756   \n",
       "1      0.308889  0.092284  0.10  0.2725  0.315  0.3700  0.47   19.0  0.963684   \n",
       "\n",
       "                                              weightDelta                      \\\n",
       "            std   min   25%   50%   75%   max       count      mean       std   \n",
       "match                                                                           \n",
       "0      0.124127  0.42  0.61  0.64  0.75  0.89        12.0  0.105833  0.094239   \n",
       "1      0.069138  0.73  0.94  1.00  1.00  1.00        18.0  0.294444  0.100131   \n",
       "\n",
       "                                          \n",
       "        min     25%    50%     75%   max  \n",
       "match                                     \n",
       "0      0.00  0.0075  0.115  0.1675  0.27  \n",
       "1      0.06  0.2500  0.300  0.3700  0.47  "
      ]
     },
     "execution_count": 445,
     "metadata": {},
     "output_type": "execute_result"
    }
   ],
   "source": [
    "matchCharacteristics[['arb','match', 'weight', 'weightDelta', 'arbDelta']].groupby(['match']).describe()"
   ]
  },
  {
   "cell_type": "markdown",
   "metadata": {},
   "source": [
    "1. The highest unmathced weight is 0.89 and the highest unmathced arb is 0.91...so, we can use those as simple threshods for \"if you're above this...call it a match\"\n",
    "\n",
    "2. Matches also have higher \"gaps\" between themselves and the next best match. so, we can probably also build a criterion on a large \"gap\" and a slightly lowe weight. Maybe go down to the lowest matched weight (0.73) and arb (0.83) with a 25th percentile matched delta (arb 0.27, weight 0.25) which is larger than the 75th percentile for non matches."
   ]
  },
  {
   "cell_type": "markdown",
   "metadata": {},
   "source": [
    "### make matches. in neuro\n"
   ]
  },
  {
   "cell_type": "code",
   "execution_count": 446,
   "metadata": {},
   "outputs": [],
   "source": [
    "nearExactWeightMatches = bestMatchForMeeting.loc[bestMatchForMeeting.percentWeight > 0.90]\n",
    "nearExactArbWeightMatches = bestMatchForMeeting.loc[bestMatchForMeeting.arbPercentWeight > 0.92]\n",
    "\n",
    "moderateWeightMatchWithLargeGap = bestMatchForMeeting.loc[(bestMatchForMeeting.percentWeight <= 0.90) & (bestMatchForMeeting.percentWeight > 0.73) & (bestMatchForMeeting.weightDelta > 0.25)]\n",
    "moderateArbMatchWithLargeGap = bestMatchForMeeting.loc[(bestMatchForMeeting.arbPercentWeight <= 0.92) & (bestMatchForMeeting.arbPercentWeight > 0.83) & (bestMatchForMeeting.arbDelta > 0.27)]\n",
    "\n",
    "exactAndOnlyNameMatch = bestMatchForMeeting.loc[(bestMatchForMeeting.exactNameMatch) & (bestMatchForMeeting.exactMatchesForMeeting==1)]\n",
    "\n",
    "neuroMatches = pd.concat([nearExactArbWeightMatches, nearExactWeightMatches, moderateArbMatchWithLargeGap, moderateWeightMatchWithLargeGap, exactAndOnlyNameMatch]).drop_duplicates()"
   ]
  },
  {
   "cell_type": "markdown",
   "metadata": {},
   "source": [
    "60% seem are matched using pretty solid near exact matches. will "
   ]
  },
  {
   "cell_type": "code",
   "execution_count": 447,
   "metadata": {},
   "outputs": [
    {
     "data": {
      "text/plain": [
       "0.6259228876127974"
      ]
     },
     "execution_count": 447,
     "metadata": {},
     "output_type": "execute_result"
    }
   ],
   "source": [
    "len(neuroMatches)/len(usmeetings)"
   ]
  },
  {
   "cell_type": "markdown",
   "metadata": {},
   "source": [
    "### now try to match the unmatched to the non-neuro ama file"
   ]
  },
  {
   "cell_type": "code",
   "execution_count": 448,
   "metadata": {},
   "outputs": [],
   "source": [
    "unmatchedMeetings = usmeetings.loc[~usmeetings.index.isin(neuroMatches.index.get_level_values(0))]\n",
    "nonNeuro = ama.loc[ama.ResearchID.isin(set(ama.ResearchID) - set(allNeuro.ResearchID))]"
   ]
  },
  {
   "cell_type": "code",
   "execution_count": 449,
   "metadata": {},
   "outputs": [],
   "source": [
    "nonNeuroMeetingAMAMatch = recordlinkage.index.SortedNeighbourhood(left_on='lastName', right_on='MailLastName', window=11)\n",
    "nonNeuroPersonMatch = nonNeuroMeetingAMAMatch.index(unmatchedMeetings, nonNeuro)\n",
    "nonNeuroPersonMatch.names = ['meetingID', 'amaID']"
   ]
  },
  {
   "cell_type": "code",
   "execution_count": 450,
   "metadata": {},
   "outputs": [],
   "source": [
    "nonNeuroComp = recordlinkage.Compare(n_jobs=12)\n",
    "nonNeuroComp.string('lastName', 'MailLastName', method='jarowinkler')\n",
    "nonNeuroComp.string('firstName', 'MailFirstName', method='jarowinkler')\n",
    "nonNeuroComp.string('middleInitial', 'middleInitial', method='jarowinkler')\n",
    "nonNeuroComp.exact('female', 'female')\n",
    "nonNeuroComp.numeric('medGradYear', 'YOGEst', method='linear', offset=2, scale=2)\n",
    "\n",
    "nonNeuroCompared = nonNeuroComp.compute(nonNeuroPersonMatch, unmatchedMeetings, nonNeuro)"
   ]
  },
  {
   "cell_type": "code",
   "execution_count": 451,
   "metadata": {},
   "outputs": [],
   "source": [
    "nonNeuroCompared = nonNeuroCompared.rename({0:\"lastNameWeight\", 1:\"firstNameWeight\", 2:\"middleInitialWeight\", 3:\"femaleWeight\", 4:\"medGradWeight\"}, axis='columns')\n",
    "nonNeuroCompared['totalWeight'] = nonNeuroCompared.lastNameWeight + nonNeuroCompared.firstNameWeight + nonNeuroCompared.middleInitialWeight + nonNeuroCompared.femaleWeight + nonNeuroCompared.medGradWeight\n",
    "nonNeuroCompared['arbWeight'] = nonNeuroCompared.lastNameWeight + nonNeuroCompared.firstNameWeight * 0.8 + nonNeuroCompared.middleInitialWeight * 0.25 + nonNeuroCompared.femaleWeight + nonNeuroCompared.medGradWeight * 0.25"
   ]
  },
  {
   "cell_type": "code",
   "execution_count": 452,
   "metadata": {},
   "outputs": [],
   "source": [
    "nonNeuroJoined = nonNeuroCompared.join(unmatchedMeetings, on='meetingID', how='left').join(nonNeuro, on='amaID', how='left', lsuffix='left', rsuffix='right')\n",
    "\n",
    "nonNeuroJoined['percentWeight'] = nonNeuroJoined.totalWeight / nonNeuroJoined.totalNonMissing\n",
    "nonNeuroJoined['arbPercentWeight'] = nonNeuroJoined.arbWeight / nonNeuroJoined.weightedNonMissing\n",
    "\n",
    "nonNeuroJoined.sort_values(['meetingID', 'percentWeight', 'arbPercentWeight'], ascending=False, inplace=True)\n",
    "nonNeuroSimpleJoin = nonNeuroJoined[[ 'percentWeight', 'arbPercentWeight', 'lastName', 'firstName', 'femaleleft', 'middleInitialleft', 'medGradYear', 'MailFirstName', 'MailLastName', 'middleInitialright', 'femaleright', 'YOGEst']]"
   ]
  },
  {
   "cell_type": "code",
   "execution_count": 453,
   "metadata": {},
   "outputs": [
    {
     "data": {
      "text/plain": [
       "Int64Index([1492, 1490, 1489, 1488, 1487, 1486, 1484, 1480, 1476, 1474,\n",
       "            ...\n",
       "              61,   48,   47,   45,   44,   36,   20,   19,   16,   10],\n",
       "           dtype='int64', name='meetingID', length=456)"
      ]
     },
     "execution_count": 453,
     "metadata": {},
     "output_type": "execute_result"
    }
   ],
   "source": [
    "nonNeuroSimpleJoin.index.get_level_values(0).unique()"
   ]
  },
  {
   "cell_type": "code",
   "execution_count": 454,
   "metadata": {},
   "outputs": [],
   "source": [
    "#nonNeuroSimpleJoin.loc[(44,)]"
   ]
  },
  {
   "cell_type": "code",
   "execution_count": 455,
   "metadata": {},
   "outputs": [],
   "source": [
    "nonNeuroJoined.sort_values(['meetingID', 'arbPercentWeight', 'percentWeight'], ascending=False, inplace=True)\n",
    "nonNeuroJoined['rankWithinMeeting'] = nonNeuroJoined.groupby([\"meetingID\"]).cumcount()\n",
    "nonNeuroJoined['nextPercentWeight'] = nonNeuroJoined.groupby('meetingID')['percentWeight'].shift(-1) \n",
    "nonNeuroJoined['nextPercentArb'] = nonNeuroJoined.groupby('meetingID')['arbPercentWeight'].shift(-1) \n",
    "nonNeuroJoined['weightDelta'] = nonNeuroJoined.percentWeight - nonNeuroJoined.nextPercentWeight \n",
    "nonNeuroJoined['arbDelta'] = nonNeuroJoined.arbPercentWeight - nonNeuroJoined.nextPercentArb\n",
    "\n",
    "bestNonNeuroMatchForMeeting = nonNeuroJoined.loc[nonNeuroJoined['rankWithinMeeting'] == 0]"
   ]
  },
  {
   "cell_type": "code",
   "execution_count": 456,
   "metadata": {},
   "outputs": [],
   "source": [
    "nonNeuroNearExactWeightMatches = bestNonNeuroMatchForMeeting.loc[(bestNonNeuroMatchForMeeting.percentWeight > 0.90) & (bestNonNeuroMatchForMeeting.weightDelta > 0.01)]\n",
    "nonNeuroNearExactArbWeightMatches = bestNonNeuroMatchForMeeting.loc[(bestNonNeuroMatchForMeeting.arbPercentWeight > 0.92) & (bestNonNeuroMatchForMeeting.arbDelta > 0.01)]\n",
    "\n",
    "nonNeuroModerateWeightMatchWithLargeGap = bestNonNeuroMatchForMeeting.loc[(bestNonNeuroMatchForMeeting.percentWeight <= 0.90) & (bestNonNeuroMatchForMeeting.percentWeight > 0.73) & (bestNonNeuroMatchForMeeting.weightDelta > 0.25)]\n",
    "nonNeuroModerateArbMatchWithLargeGap = bestNonNeuroMatchForMeeting.loc[(bestNonNeuroMatchForMeeting.arbPercentWeight <= 0.92) & (bestNonNeuroMatchForMeeting.arbPercentWeight > 0.83) & (bestNonNeuroMatchForMeeting.arbDelta > 0.27)]\n",
    "\n",
    "nonNeuroMatches = pd.concat([nonNeuroNearExactWeightMatches, nonNeuroNearExactArbWeightMatches, nonNeuroModerateWeightMatchWithLargeGap, nonNeuroModerateArbMatchWithLargeGap]).drop_duplicates()"
   ]
  },
  {
   "cell_type": "code",
   "execution_count": 457,
   "metadata": {},
   "outputs": [
    {
     "data": {
      "text/plain": [
       "0.2026251025430681"
      ]
     },
     "execution_count": 457,
     "metadata": {},
     "output_type": "execute_result"
    }
   ],
   "source": [
    "len(nonNeuroMatches)/len(usmeetings)"
   ]
  },
  {
   "cell_type": "code",
   "execution_count": 460,
   "metadata": {},
   "outputs": [
    {
     "data": {
      "text/plain": [
       "0.17145200984413453"
      ]
     },
     "execution_count": 460,
     "metadata": {},
     "output_type": "execute_result"
    }
   ],
   "source": [
    "unmatchedMeetings2 = unmatchedMeetings.loc[~unmatchedMeetings.index.isin(nonNeuroMatches.index.get_level_values(0))]\n",
    "len(unmatchedMeetings2)/len(usmeetings)"
   ]
  },
  {
   "cell_type": "code",
   "execution_count": 459,
   "metadata": {},
   "outputs": [],
   "source": [
    "#unmatchedMeetings2.tail(50)"
   ]
  },
  {
   "cell_type": "markdown",
   "metadata": {},
   "source": [
    "### factors we can match on directly: \n",
    "<ol>\n",
    "    <li>first name</li>\n",
    "    <li>last name</li>\n",
    "    <li>middle initial</li>\n",
    "    <li> sex </li>\n",
    "    <li>med school year of graduation</li>\n",
    "</ol>\n",
    "\n",
    "### factors that we can match/filter on somewhat: \n",
    "<ol>\n",
    "    <li> residency training institution vs. current institution (assuming there is a lot of overlap)</li>\n",
    "    <li> curent hospital name...althjough huge limitation that its missing for 85% of the samle</li>\n",
    "    <li> current mailing zip code (ama masterfile) vs. hospital zip code (will n eed to be matched into speaker file</li>\n",
    "    <li>US trained in both files</li>\n",
    "    <li> maybe there is a way to link the academic filter? although probably not that useful given its prevalence</li>\n",
    "</ol>\n",
    "\n",
    "    "
   ]
  },
  {
   "cell_type": "code",
   "execution_count": 500,
   "metadata": {},
   "outputs": [],
   "source": [
    "meetings['neuroMatch'] = meetings.index.isin(neuroMatches.index.get_level_values(0))\n",
    "meetings['nonNeuroMatch'] =meetings.index.isin(nonNeuroMatches.index.get_level_values(0))\n",
    "meetings['unmatched'] = meetings.index.isin(unmatchedMeetings2.index)\n",
    "meetings[['neuroMatch','nonNeuroMatch', 'unmatched', 'nonus']] = meetings[['neuroMatch','nonNeuroMatch', 'unmatched', 'nonus']].astype(int)\n",
    "meetings['matchCategory'] = meetings[['neuroMatch','nonNeuroMatch', 'unmatched', 'nonus']].idxmax(axis=1)"
   ]
  },
  {
   "cell_type": "markdown",
   "metadata": {},
   "source": [
    "### How was the overall match?"
   ]
  },
  {
   "cell_type": "code",
   "execution_count": 518,
   "metadata": {},
   "outputs": [
    {
     "data": {
      "text/plain": [
       "neuroMatch       763\n",
       "nonus            275\n",
       "nonNeuroMatch    247\n",
       "unmatched        209\n",
       "Name: matchCategory, dtype: int64"
      ]
     },
     "execution_count": 518,
     "metadata": {},
     "output_type": "execute_result"
    }
   ],
   "source": [
    "meetings.matchCategory.value_counts()"
   ]
  },
  {
   "cell_type": "markdown",
   "metadata": {},
   "source": [
    "### Compare the speakers data across the categories of matches...\n",
    "\n",
    "1. We have a small problem with the unmatched group where women are more common\n",
    "2. Women speakers are less common amongst non-US speakers...\n",
    "3. Non-US speakers have higher pub counts\n",
    "4. non-neuro meetings have more recnet grads with fewer pubs"
   ]
  },
  {
   "cell_type": "code",
   "execution_count": 521,
   "metadata": {},
   "outputs": [
    {
     "data": {
      "text/html": [
       "<div>\n",
       "<style scoped>\n",
       "    .dataframe tbody tr th:only-of-type {\n",
       "        vertical-align: middle;\n",
       "    }\n",
       "\n",
       "    .dataframe tbody tr th {\n",
       "        vertical-align: top;\n",
       "    }\n",
       "\n",
       "    .dataframe thead th {\n",
       "        text-align: right;\n",
       "    }\n",
       "</style>\n",
       "<table border=\"1\" class=\"dataframe\">\n",
       "  <thead>\n",
       "    <tr style=\"text-align: right;\">\n",
       "      <th></th>\n",
       "      <th>matchCategory</th>\n",
       "      <th>neuroMatch</th>\n",
       "      <th>nonNeuroMatch</th>\n",
       "      <th>nonus</th>\n",
       "      <th>unmatched</th>\n",
       "    </tr>\n",
       "  </thead>\n",
       "  <tbody>\n",
       "    <tr>\n",
       "      <th rowspan=\"2\" valign=\"top\">academic</th>\n",
       "      <th>mean</th>\n",
       "      <td>0.955439</td>\n",
       "      <td>0.947368</td>\n",
       "      <td>0.989091</td>\n",
       "      <td>0.937799</td>\n",
       "    </tr>\n",
       "    <tr>\n",
       "      <th>std</th>\n",
       "      <td>0.206473</td>\n",
       "      <td>0.223750</td>\n",
       "      <td>0.104065</td>\n",
       "      <td>0.242100</td>\n",
       "    </tr>\n",
       "    <tr>\n",
       "      <th rowspan=\"2\" valign=\"top\">female</th>\n",
       "      <th>mean</th>\n",
       "      <td>0.284404</td>\n",
       "      <td>0.303644</td>\n",
       "      <td>0.185654</td>\n",
       "      <td>0.364078</td>\n",
       "    </tr>\n",
       "    <tr>\n",
       "      <th>std</th>\n",
       "      <td>0.451426</td>\n",
       "      <td>0.460764</td>\n",
       "      <td>0.389650</td>\n",
       "      <td>0.482343</td>\n",
       "    </tr>\n",
       "    <tr>\n",
       "      <th rowspan=\"2\" valign=\"top\">honorificSpeaker</th>\n",
       "      <th>mean</th>\n",
       "      <td>0.000000</td>\n",
       "      <td>0.000000</td>\n",
       "      <td>0.000000</td>\n",
       "      <td>0.000000</td>\n",
       "    </tr>\n",
       "    <tr>\n",
       "      <th>std</th>\n",
       "      <td>0.000000</td>\n",
       "      <td>0.000000</td>\n",
       "      <td>0.000000</td>\n",
       "      <td>0.000000</td>\n",
       "    </tr>\n",
       "    <tr>\n",
       "      <th rowspan=\"2\" valign=\"top\">leadership</th>\n",
       "      <th>mean</th>\n",
       "      <td>0.369594</td>\n",
       "      <td>0.141700</td>\n",
       "      <td>0.047273</td>\n",
       "      <td>0.110048</td>\n",
       "    </tr>\n",
       "    <tr>\n",
       "      <th>std</th>\n",
       "      <td>0.709677</td>\n",
       "      <td>0.502192</td>\n",
       "      <td>0.272763</td>\n",
       "      <td>0.395096</td>\n",
       "    </tr>\n",
       "    <tr>\n",
       "      <th rowspan=\"2\" valign=\"top\">medGradYear</th>\n",
       "      <th>mean</th>\n",
       "      <td>1992.120211</td>\n",
       "      <td>1995.636735</td>\n",
       "      <td>1992.920455</td>\n",
       "      <td>1992.896552</td>\n",
       "    </tr>\n",
       "    <tr>\n",
       "      <th>std</th>\n",
       "      <td>10.935360</td>\n",
       "      <td>10.582360</td>\n",
       "      <td>9.135282</td>\n",
       "      <td>11.422556</td>\n",
       "    </tr>\n",
       "    <tr>\n",
       "      <th rowspan=\"2\" valign=\"top\">neuroMatch</th>\n",
       "      <th>mean</th>\n",
       "      <td>1.000000</td>\n",
       "      <td>0.000000</td>\n",
       "      <td>0.000000</td>\n",
       "      <td>0.000000</td>\n",
       "    </tr>\n",
       "    <tr>\n",
       "      <th>std</th>\n",
       "      <td>0.000000</td>\n",
       "      <td>0.000000</td>\n",
       "      <td>0.000000</td>\n",
       "      <td>0.000000</td>\n",
       "    </tr>\n",
       "    <tr>\n",
       "      <th rowspan=\"2\" valign=\"top\">nonNeuroMatch</th>\n",
       "      <th>mean</th>\n",
       "      <td>0.000000</td>\n",
       "      <td>1.000000</td>\n",
       "      <td>0.000000</td>\n",
       "      <td>0.000000</td>\n",
       "    </tr>\n",
       "    <tr>\n",
       "      <th>std</th>\n",
       "      <td>0.000000</td>\n",
       "      <td>0.000000</td>\n",
       "      <td>0.000000</td>\n",
       "      <td>0.000000</td>\n",
       "    </tr>\n",
       "    <tr>\n",
       "      <th rowspan=\"2\" valign=\"top\">nonus</th>\n",
       "      <th>mean</th>\n",
       "      <td>0.000000</td>\n",
       "      <td>0.000000</td>\n",
       "      <td>1.000000</td>\n",
       "      <td>0.000000</td>\n",
       "    </tr>\n",
       "    <tr>\n",
       "      <th>std</th>\n",
       "      <td>0.000000</td>\n",
       "      <td>0.000000</td>\n",
       "      <td>0.000000</td>\n",
       "      <td>0.000000</td>\n",
       "    </tr>\n",
       "    <tr>\n",
       "      <th rowspan=\"2\" valign=\"top\">pubsScopus</th>\n",
       "      <th>mean</th>\n",
       "      <td>121.025066</td>\n",
       "      <td>95.107438</td>\n",
       "      <td>172.514894</td>\n",
       "      <td>104.636816</td>\n",
       "    </tr>\n",
       "    <tr>\n",
       "      <th>std</th>\n",
       "      <td>134.809952</td>\n",
       "      <td>108.450520</td>\n",
       "      <td>161.102514</td>\n",
       "      <td>145.488083</td>\n",
       "    </tr>\n",
       "    <tr>\n",
       "      <th rowspan=\"2\" valign=\"top\">scopusHIndex</th>\n",
       "      <th>mean</th>\n",
       "      <td>29.268519</td>\n",
       "      <td>24.454545</td>\n",
       "      <td>32.773504</td>\n",
       "      <td>24.879397</td>\n",
       "    </tr>\n",
       "    <tr>\n",
       "      <th>std</th>\n",
       "      <td>26.700857</td>\n",
       "      <td>21.924238</td>\n",
       "      <td>23.104446</td>\n",
       "      <td>25.750464</td>\n",
       "    </tr>\n",
       "    <tr>\n",
       "      <th rowspan=\"2\" valign=\"top\">speaker</th>\n",
       "      <th>mean</th>\n",
       "      <td>0.722149</td>\n",
       "      <td>0.331984</td>\n",
       "      <td>0.105455</td>\n",
       "      <td>0.287081</td>\n",
       "    </tr>\n",
       "    <tr>\n",
       "      <th>std</th>\n",
       "      <td>1.147344</td>\n",
       "      <td>0.700689</td>\n",
       "      <td>0.467724</td>\n",
       "      <td>1.062415</td>\n",
       "    </tr>\n",
       "    <tr>\n",
       "      <th rowspan=\"2\" valign=\"top\">totalNonMissing</th>\n",
       "      <th>mean</th>\n",
       "      <td>4.515072</td>\n",
       "      <td>4.246964</td>\n",
       "      <td>4.192727</td>\n",
       "      <td>4.244019</td>\n",
       "    </tr>\n",
       "    <tr>\n",
       "      <th>std</th>\n",
       "      <td>0.500101</td>\n",
       "      <td>0.432121</td>\n",
       "      <td>0.395160</td>\n",
       "      <td>0.430535</td>\n",
       "    </tr>\n",
       "    <tr>\n",
       "      <th rowspan=\"2\" valign=\"top\">unmatched</th>\n",
       "      <th>mean</th>\n",
       "      <td>0.000000</td>\n",
       "      <td>0.000000</td>\n",
       "      <td>0.000000</td>\n",
       "      <td>1.000000</td>\n",
       "    </tr>\n",
       "    <tr>\n",
       "      <th>std</th>\n",
       "      <td>0.000000</td>\n",
       "      <td>0.000000</td>\n",
       "      <td>0.000000</td>\n",
       "      <td>0.000000</td>\n",
       "    </tr>\n",
       "    <tr>\n",
       "      <th rowspan=\"2\" valign=\"top\">us</th>\n",
       "      <th>mean</th>\n",
       "      <td>1.000000</td>\n",
       "      <td>1.000000</td>\n",
       "      <td>0.000000</td>\n",
       "      <td>1.000000</td>\n",
       "    </tr>\n",
       "    <tr>\n",
       "      <th>std</th>\n",
       "      <td>0.000000</td>\n",
       "      <td>0.000000</td>\n",
       "      <td>0.000000</td>\n",
       "      <td>0.000000</td>\n",
       "    </tr>\n",
       "    <tr>\n",
       "      <th rowspan=\"2\" valign=\"top\">weightedNonMissing</th>\n",
       "      <th>mean</th>\n",
       "      <td>3.178768</td>\n",
       "      <td>3.111741</td>\n",
       "      <td>3.098182</td>\n",
       "      <td>3.111005</td>\n",
       "    </tr>\n",
       "    <tr>\n",
       "      <th>std</th>\n",
       "      <td>0.125025</td>\n",
       "      <td>0.108030</td>\n",
       "      <td>0.098790</td>\n",
       "      <td>0.107634</td>\n",
       "    </tr>\n",
       "  </tbody>\n",
       "</table>\n",
       "</div>"
      ],
      "text/plain": [
       "matchCategory             neuroMatch  nonNeuroMatch        nonus    unmatched\n",
       "academic           mean     0.955439       0.947368     0.989091     0.937799\n",
       "                   std      0.206473       0.223750     0.104065     0.242100\n",
       "female             mean     0.284404       0.303644     0.185654     0.364078\n",
       "                   std      0.451426       0.460764     0.389650     0.482343\n",
       "honorificSpeaker   mean     0.000000       0.000000     0.000000     0.000000\n",
       "                   std      0.000000       0.000000     0.000000     0.000000\n",
       "leadership         mean     0.369594       0.141700     0.047273     0.110048\n",
       "                   std      0.709677       0.502192     0.272763     0.395096\n",
       "medGradYear        mean  1992.120211    1995.636735  1992.920455  1992.896552\n",
       "                   std     10.935360      10.582360     9.135282    11.422556\n",
       "neuroMatch         mean     1.000000       0.000000     0.000000     0.000000\n",
       "                   std      0.000000       0.000000     0.000000     0.000000\n",
       "nonNeuroMatch      mean     0.000000       1.000000     0.000000     0.000000\n",
       "                   std      0.000000       0.000000     0.000000     0.000000\n",
       "nonus              mean     0.000000       0.000000     1.000000     0.000000\n",
       "                   std      0.000000       0.000000     0.000000     0.000000\n",
       "pubsScopus         mean   121.025066      95.107438   172.514894   104.636816\n",
       "                   std    134.809952     108.450520   161.102514   145.488083\n",
       "scopusHIndex       mean    29.268519      24.454545    32.773504    24.879397\n",
       "                   std     26.700857      21.924238    23.104446    25.750464\n",
       "speaker            mean     0.722149       0.331984     0.105455     0.287081\n",
       "                   std      1.147344       0.700689     0.467724     1.062415\n",
       "totalNonMissing    mean     4.515072       4.246964     4.192727     4.244019\n",
       "                   std      0.500101       0.432121     0.395160     0.430535\n",
       "unmatched          mean     0.000000       0.000000     0.000000     1.000000\n",
       "                   std      0.000000       0.000000     0.000000     0.000000\n",
       "us                 mean     1.000000       1.000000     0.000000     1.000000\n",
       "                   std      0.000000       0.000000     0.000000     0.000000\n",
       "weightedNonMissing mean     3.178768       3.111741     3.098182     3.111005\n",
       "                   std      0.125025       0.108030     0.098790     0.107634"
      ]
     },
     "execution_count": 521,
     "metadata": {},
     "output_type": "execute_result"
    }
   ],
   "source": [
    "meetings.replace(-1, np.nan, inplace=True)\n",
    "meetings.pivot_table(index=meetings.matchCategory, dropna=True, aggfunc=( 'mean', 'std')).transpose()"
   ]
  },
  {
   "cell_type": "code",
   "execution_count": null,
   "metadata": {},
   "outputs": [],
   "source": []
  }
 ],
 "metadata": {
  "kernelspec": {
   "display_name": "Python 3",
   "language": "python",
   "name": "python3"
  },
  "language_info": {
   "codemirror_mode": {
    "name": "ipython",
    "version": 3
   },
   "file_extension": ".py",
   "mimetype": "text/x-python",
   "name": "python",
   "nbconvert_exporter": "python",
   "pygments_lexer": "ipython3",
   "version": "3.6.5"
  }
 },
 "nbformat": 4,
 "nbformat_minor": 2
}
